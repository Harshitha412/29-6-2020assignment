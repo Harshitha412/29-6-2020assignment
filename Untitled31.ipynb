{
  "nbformat": 4,
  "nbformat_minor": 0,
  "metadata": {
    "colab": {
      "name": "Untitled31.ipynb",
      "provenance": [],
      "collapsed_sections": [],
      "authorship_tag": "ABX9TyNnc6OBc/dgZIBDS1b4V3Kz",
      "include_colab_link": true
    },
    "kernelspec": {
      "name": "python3",
      "display_name": "Python 3"
    }
  },
  "cells": [
    {
      "cell_type": "markdown",
      "metadata": {
        "id": "view-in-github",
        "colab_type": "text"
      },
      "source": [
        "<a href=\"https://colab.research.google.com/github/Harshitha412/29-6-2020assignment/blob/master/Untitled31.ipynb\" target=\"_parent\"><img src=\"https://colab.research.google.com/assets/colab-badge.svg\" alt=\"Open In Colab\"/></a>"
      ]
    },
    {
      "cell_type": "code",
      "metadata": {
        "id": "NIehrvALxQck",
        "colab_type": "code",
        "colab": {
          "base_uri": "https://localhost:8080/",
          "height": 50
        },
        "outputId": "297f02c9-864b-43a1-a29f-b36ab6a50811"
      },
      "source": [
        "#python program to clone or copy a list\n",
        "original_list = [10,22,44,23,4]\n",
        "new_list = list(original_list)\n",
        "print(original_list)\n",
        "print(new_list)"
      ],
      "execution_count": 1,
      "outputs": [
        {
          "output_type": "stream",
          "text": [
            "[10, 22, 44, 23, 4]\n",
            "[10, 22, 44, 23, 4]\n"
          ],
          "name": "stdout"
        }
      ]
    },
    {
      "cell_type": "code",
      "metadata": {
        "id": "hX6Kl97XzPT6",
        "colab_type": "code",
        "colab": {
          "base_uri": "https://localhost:8080/",
          "height": 34
        },
        "outputId": "20f3c5f8-a933-41aa-81c5-5fa843e42c05"
      },
      "source": [
        "#python program to print a specified list after removing the 0th,4th and 5th elements\n",
        "color = ['red','green','white','black','pink','yellow']\n",
        "color = [x for (i,x)in enumerate(color) if i not in (0,4,5)]\n",
        "print(color)"
      ],
      "execution_count": 7,
      "outputs": [
        {
          "output_type": "stream",
          "text": [
            "['green', 'white', 'black']\n"
          ],
          "name": "stdout"
        }
      ]
    },
    {
      "cell_type": "code",
      "metadata": {
        "id": "NUNH1RWh04Jk",
        "colab_type": "code",
        "colab": {
          "base_uri": "https://localhost:8080/",
          "height": 34
        },
        "outputId": "d50c9a42-b049-4024-8218-1ea8ab7aa0ee"
      },
      "source": [
        "#python program to print the numbers of a specified list after removing even numbers from it\n",
        "num = [7,8,120,25,44,20,27]\n",
        "num = [x for x in num if x%2!=0]\n",
        "print(num)"
      ],
      "execution_count": 8,
      "outputs": [
        {
          "output_type": "stream",
          "text": [
            "[7, 25, 27]\n"
          ],
          "name": "stdout"
        }
      ]
    },
    {
      "cell_type": "code",
      "metadata": {
        "id": "2sbWIaf61pmO",
        "colab_type": "code",
        "colab": {
          "base_uri": "https://localhost:8080/",
          "height": 34
        },
        "outputId": "49b6b14e-acde-48d1-ba7b-7b0515c5be96"
      },
      "source": [
        "#python program to shuffle and print a specified list\n",
        "from random import shuffle\n",
        "color = ['red','green','white','black','pink','yellow']\n",
        "shuffle(color)\n",
        "print(color)\n"
      ],
      "execution_count": 9,
      "outputs": [
        {
          "output_type": "stream",
          "text": [
            "['white', 'green', 'black', 'pink', 'red', 'yellow']\n"
          ],
          "name": "stdout"
        }
      ]
    },
    {
      "cell_type": "code",
      "metadata": {
        "id": "shImfilk2Yp_",
        "colab_type": "code",
        "colab": {}
      },
      "source": [
        "#python program to get the difference between the two lists\n"
      ],
      "execution_count": null,
      "outputs": []
    },
    {
      "cell_type": "code",
      "metadata": {
        "id": "KNrdLX0g2s2i",
        "colab_type": "code",
        "colab": {
          "base_uri": "https://localhost:8080/",
          "height": 34
        },
        "outputId": "aca4c73b-c530-46de-e5b1-3546491289a7"
      },
      "source": [
        "list1 = [1,3,5,7,9]\n",
        "list2 = [1,2,4,6,7,8]\n",
        "diff_list1_list2 = list(set(list1) - set(list2))\n",
        "diff_list2_list1 = list(set(list2) - set(list1))\n",
        "total_diff = diff_list1_list2 + diff_list2_list1\n",
        "print(total_diff)"
      ],
      "execution_count": 10,
      "outputs": [
        {
          "output_type": "stream",
          "text": [
            "[9, 3, 5, 8, 2, 4, 6]\n"
          ],
          "name": "stdout"
        }
      ]
    }
  ]
}